{
 "cells": [
  {
   "cell_type": "markdown",
   "metadata": {},
   "source": [
    "# 連続制御のActorCriticを実装する"
   ]
  },
  {
   "cell_type": "code",
   "execution_count": 89,
   "metadata": {},
   "outputs": [],
   "source": [
    "from pathlib import Path\n",
    "import random\n",
    "import numpy as np\n",
    "import pandas as pd\n",
    "import matplotlib.pyplot as plt\n",
    "import seaborn as sns\n",
    "from tqdm import tqdm\n",
    "import gym\n",
    "from gym.wrappers import RecordVideo\n",
    "import torch\n",
    "import torch.nn as nn\n",
    "import torch.nn.functional as F\n",
    "import torch.optim as optim\n",
    "from torch.distributions import Normal"
   ]
  },
  {
   "cell_type": "markdown",
   "metadata": {},
   "source": [
    "## パラメータの設定"
   ]
  },
  {
   "cell_type": "code",
   "execution_count": 2,
   "metadata": {},
   "outputs": [],
   "source": [
    "gym_game_name = 'Pendulum-v1'"
   ]
  },
  {
   "cell_type": "code",
   "execution_count": 3,
   "metadata": {},
   "outputs": [],
   "source": [
    "device = torch.device(\"cuda\" if torch.cuda.is_available() else \"cpu\")"
   ]
  },
  {
   "cell_type": "code",
   "execution_count": null,
   "metadata": {},
   "outputs": [],
   "source": [
    "seed = 123456\n",
    "torch.manual_seed(seed)\n",
    "np.random.seed(seed)"
   ]
  },
  {
   "cell_type": "code",
   "execution_count": 4,
   "metadata": {},
   "outputs": [],
   "source": [
    "result_dir_path = Path('result')\n",
    "model_dir_path = Path('model')\n",
    "if not result_dir_path.exists():\n",
    "    result_dir_path.mkdir(parents=True)\n",
    "if not model_dir_path.exists():\n",
    "    model_dir_path.mkdir(parents=True)"
   ]
  },
  {
   "cell_type": "markdown",
   "metadata": {},
   "source": [
    "## モデルの構築"
   ]
  },
  {
   "cell_type": "code",
   "execution_count": 5,
   "metadata": {},
   "outputs": [],
   "source": [
    "class CriticNet(nn.Module):\n",
    "\n",
    "    def __init__(self, input_dim, output_dim, hidden_dim):\n",
    "\n",
    "        super().__init__()\n",
    "\n",
    "        self.linear1 = nn.Linear(input_dim, hidden_dim)\n",
    "        self.linear2 = nn.Linear(hidden_dim, hidden_dim)\n",
    "        self.linear3 = nn.Linear(hidden_dim, output_dim)\n",
    "\n",
    "    def forward(self, state, action):\n",
    "        x = torch.cat([state, action], 1)\n",
    "        x = F.relu(self.linear1(x))\n",
    "        x = F.relu(self.linear2(x))\n",
    "        x = self.linear3(x)\n",
    "        return x"
   ]
  },
  {
   "cell_type": "code",
   "execution_count": 91,
   "metadata": {},
   "outputs": [],
   "source": [
    "LOG_SIG_MAX = 2\n",
    "LOG_SIG_MIN = -20\n",
    "epsilon = 1e-6\n",
    "\n",
    "class ActorNet(nn.Module):\n",
    "\n",
    "    def __init__(self, input_dim, output_dim, hidden_dim, action_scale):\n",
    "\n",
    "        super().__init__()\n",
    "\n",
    "        self.linear1 = nn.Linear(input_dim, hidden_dim)\n",
    "        self.linear2 = nn.Linear(hidden_dim, hidden_dim)\n",
    "\n",
    "        self.mean_linear = nn.Linear(hidden_dim, output_dim)\n",
    "        self.log_std_linear = nn.Linear(hidden_dim, output_dim)\n",
    "\n",
    "        self.action_scale = torch.tensor(action_scale)\n",
    "        self.action_bias = torch.tensor(0.)\n",
    "\n",
    "    def forward(self, state):\n",
    "        x = F.relu(self.linear1(state))\n",
    "        x = F.relu(self.linear2(x))\n",
    "        mean = self.mean_linear(x)\n",
    "        log_std = self.log_std_linear(x)\n",
    "        log_std = torch.clamp(log_std, min=LOG_SIG_MIN, max=LOG_SIG_MAX)\n",
    "        return mean, log_std\n",
    "\n",
    "    def sample(self, state):\n",
    "        mean, log_std = self.forward(state)\n",
    "        std = log_std.exp()\n",
    "        normal = Normal(mean, std)\n",
    "        x_t = normal.rsample()\n",
    "        y_t = torch.tanh(x_t)\n",
    "        action = y_t * self.action_scale + self.action_bias\n",
    "        mean = torch.tanh(mean) * self.action_scale + self.action_bias\n",
    "        return action, mean\n",
    "\n",
    "    def to(self, device):\n",
    "        self.action_scale = self.action_scale.to(device)\n",
    "        self.action_bias = self.action_bias.to(device)\n",
    "        return super().to(device)\n"
   ]
  },
  {
   "cell_type": "code",
   "execution_count": 124,
   "metadata": {},
   "outputs": [],
   "source": [
    "class ActorCriticModel(object):\n",
    "\n",
    "    def __init__(self, state_dim, action_dim, action_scale, args, device):\n",
    "\n",
    "        self.gamma = args['gamma']\n",
    "        self.tau = args['tau']\n",
    "        self.alpha = args['alpha']\n",
    "\n",
    "        self.target_update_interval = args['target_update_interval']\n",
    "\n",
    "        self.device = device\n",
    "\n",
    "        self.actor_net = ActorNet(input_dim=state_dim, output_dim=action_dim, hidden_dim=args['hiden_dim'], action_scale=action_scale).to(self.device)\n",
    "        self.critic_net = CriticNet(input_dim=state_dim + action_dim, output_dim=1, hidden_dim=args['hiden_dim']).to(self.device)\n",
    "        self.critic_net_target = CriticNet(input_dim=state_dim + action_dim, output_dim=1, hidden_dim=args['hiden_dim']).to(self.device)\n",
    "\n",
    "        hard_update(self.critic_net_target, self.critic_net)\n",
    "        convert_network_grad_to_false(self.critic_net_target)\n",
    "\n",
    "        self.actor_optim = optim.Adam(self.actor_net.parameters())\n",
    "        self.critic_optim = optim.Adam(self.critic_net.parameters())\n",
    "\n",
    "    def select_action(self, state, evaluate=False):\n",
    "        state = torch.FloatTensor(state).unsqueeze(0).to(self.device)\n",
    "        if not evaluate:\n",
    "            action, _ = self.actor_net.sample(state)\n",
    "        else:\n",
    "            _, action = self.actor_net.sample(state)\n",
    "        return action.detach().numpy().reshape(-1)\n",
    "\n",
    "    def update_parameters(self, memory, batch_size, updates):\n",
    "\n",
    "        state_batch, action_batch, reward_batch, next_state_batch, mask_batch = memory.sample(batch_size=batch_size)\n",
    "\n",
    "        state_batch = torch.FloatTensor(state_batch).to(self.device)\n",
    "        next_state_batch = torch.FloatTensor(next_state_batch).to(self.device)\n",
    "        action_batch = torch.FloatTensor(action_batch).to(self.device)\n",
    "        reward_batch = torch.FloatTensor(reward_batch).unsqueeze(1).to(self.device)\n",
    "        mask_batch = torch.FloatTensor(mask_batch).unsqueeze(1).to(self.device)\n",
    "\n",
    "        with torch.no_grad():\n",
    "            next_state_action, _ = self.actor_net.sample(next_state_batch)\n",
    "            next_q_values_target = self.critic_net_target(next_state_batch, next_state_action)\n",
    "            next_q_values = reward_batch + mask_batch * self.gamma * next_q_values_target\n",
    "\n",
    "        q_values = self.critic_net(state_batch, action_batch)\n",
    "        critic_loss = F.mse_loss(q_values, next_q_values)\n",
    "\n",
    "        self.critic_optim.zero_grad()\n",
    "        critic_loss.backward()\n",
    "        self.critic_optim.step()\n",
    "\n",
    "        action, _ = self.actor_net.sample(state_batch)\n",
    "        q_values = self.critic_net(state_batch, action)\n",
    "        actor_loss = - q_values.mean()\n",
    "\n",
    "        self.actor_optim.zero_grad()\n",
    "        actor_loss.backward()\n",
    "        self.actor_optim.step()\n",
    "\n",
    "        if updates % self.target_update_interval == 0:\n",
    "            soft_update(self.critic_net_target, self.critic_net, self.tau)\n",
    "\n",
    "        return critic_loss.item(), actor_loss.item()\n"
   ]
  },
  {
   "cell_type": "code",
   "execution_count": 100,
   "metadata": {},
   "outputs": [],
   "source": [
    "def soft_update(target_net, source_net, tau):\n",
    "    for target_param, param in zip(target_net.parameters(), source_net.parameters()):\n",
    "        target_param.data.copy_(target_param.data * (1.0 - tau) + param.data * tau)\n",
    "\n",
    "\n",
    "def hard_update(target_net, source_net):\n",
    "    for target_param, param in zip(target_net.parameters(), source_net.parameters()):\n",
    "        target_param.data.copy_(param.data)\n",
    "\n",
    "\n",
    "def convert_network_grad_to_false(network):\n",
    "    for param in network.parameters():\n",
    "        param.requires_grad = False"
   ]
  },
  {
   "cell_type": "markdown",
   "metadata": {},
   "source": [
    "## メモリの構築"
   ]
  },
  {
   "cell_type": "code",
   "execution_count": 101,
   "metadata": {},
   "outputs": [],
   "source": [
    "class ReplayMemory:\n",
    "\n",
    "    def __init__(self, memory_size):\n",
    "        self.memory_size = memory_size\n",
    "        self.buffer = []\n",
    "        self.position = 0\n",
    "\n",
    "    def push(self, state, action, reward, next_state, mask):\n",
    "        if len(self.buffer) < self.memory_size:\n",
    "            self.buffer.append(None)\n",
    "        self.buffer[self.position] = (state, action, reward, next_state, mask)\n",
    "        self.position = (self.position + 1) % self.memory_size\n",
    "\n",
    "    def sample(self, batch_size):\n",
    "        batch = random.sample(self.buffer, batch_size)\n",
    "        states, actions, rewards, next_states, dones = map(np.stack, zip(*batch))\n",
    "        return states, actions, rewards, next_states, dones\n",
    "\n",
    "    def __len__(self):\n",
    "        return len(self.buffer)"
   ]
  },
  {
   "cell_type": "markdown",
   "metadata": {},
   "source": [
    "## 連続値制御のActorCritiモデルの学習"
   ]
  },
  {
   "cell_type": "code",
   "execution_count": 102,
   "metadata": {},
   "outputs": [],
   "source": [
    "args = {\n",
    "    'gamma': 0.99,\n",
    "    'tau': 0.005,\n",
    "    'alpha': 0.2,\n",
    "    'seed': 123456,\n",
    "    'batch_size': 256,\n",
    "    'hiden_dim': 256,\n",
    "    'start_steps': 1000,\n",
    "    'target_update_interval': 1,\n",
    "    'memory_size': 100000,\n",
    "    'epochs': 100,\n",
    "    'eval_interval': 10\n",
    "}"
   ]
  },
  {
   "cell_type": "code",
   "execution_count": 126,
   "metadata": {},
   "outputs": [],
   "source": [
    "env = gym.make(gym_game_name)"
   ]
  },
  {
   "cell_type": "code",
   "execution_count": 128,
   "metadata": {},
   "outputs": [
    {
     "name": "stdout",
     "output_type": "stream",
     "text": [
      "Episode: 10, Eval Avg. Reward: -1189\n",
      "Episode: 20, Eval Avg. Reward: -1075\n",
      "Episode: 30, Eval Avg. Reward: -210\n",
      "Episode: 40, Eval Avg. Reward: -136\n",
      "Episode: 50, Eval Avg. Reward: -140\n",
      "Episode: 60, Eval Avg. Reward: -158\n",
      "Episode: 70, Eval Avg. Reward: -122\n",
      "Episode: 80, Eval Avg. Reward: -195\n",
      "Episode: 90, Eval Avg. Reward: -152\n",
      "Episode: 100, Eval Avg. Reward: -191\n",
      "Game Done !! Max Reward: -121.87\n"
     ]
    }
   ],
   "source": [
    "agent = ActorCriticModel(\n",
    "    state_dim=env.observation_space.shape[0], action_dim=env.action_space.shape[0],\n",
    "    action_scale=env.action_space.high[0], args=args, device=device\n",
    ")\n",
    "memory = ReplayMemory(args['memory_size'])\n",
    "\n",
    "episode_reward_list = []\n",
    "eval_reward_list = []\n",
    "\n",
    "n_steps = 0\n",
    "n_update = 0\n",
    "for i_episode in range(1, args['epochs'] + 1):\n",
    "\n",
    "    episode_reward = 0\n",
    "    done = False\n",
    "    state = env.reset()\n",
    "\n",
    "    while not done:\n",
    "        \n",
    "        if args['start_steps'] > n_steps:\n",
    "            action = env.action_space.sample()\n",
    "        else:\n",
    "            action = agent.select_action(state)\n",
    "\n",
    "        if len(memory) > args['batch_size']:\n",
    "            agent.update_parameters(memory, args['batch_size'], n_update)\n",
    "            n_update += 1\n",
    "\n",
    "        next_state, reward, done, _ = env.step(action)\n",
    "        n_steps += 1\n",
    "        episode_reward += reward\n",
    "\n",
    "        memory.push(state=state, action=action, reward=reward, next_state=next_state, mask=float(not done))\n",
    "\n",
    "        state = next_state\n",
    "\n",
    "    episode_reward_list.append(episode_reward)\n",
    "\n",
    "    if i_episode % args['eval_interval'] == 0:\n",
    "        avg_reward = 0.\n",
    "        for _  in range(args['eval_interval']):\n",
    "            state = env.reset()\n",
    "            episode_reward = 0\n",
    "            done = False\n",
    "            while not done:\n",
    "                with torch.no_grad():\n",
    "                    action = agent.select_action(state, evaluate=True)\n",
    "                next_state, reward, done, _ = env.step(action)\n",
    "                episode_reward += reward\n",
    "                state = next_state\n",
    "            avg_reward += episode_reward\n",
    "        avg_reward /= args['eval_interval']\n",
    "        eval_reward_list.append(avg_reward)\n",
    "\n",
    "        print(\"Episode: {}, Eval Avg. Reward: {:.0f}\".format(i_episode, avg_reward))\n",
    "\n",
    "print('Game Done !! Max Reward: {:.2f}'.format(np.max(eval_reward_list)))\n",
    "\n",
    "torch.save(agent.actor_net.to('cpu').state_dict(), model_dir_path.joinpath(f'{gym_game_name}_actor.pth'))"
   ]
  },
  {
   "cell_type": "markdown",
   "metadata": {},
   "source": [
    "## 学習時の評価報酬の可視化"
   ]
  },
  {
   "cell_type": "code",
   "execution_count": 129,
   "metadata": {},
   "outputs": [
    {
     "data": {
      "image/png": "[encoded data removed]",
      "text/plain": [
       "<Figure size 576x432 with 1 Axes>"
      ]
     },
     "metadata": {},
     "output_type": "display_data"
    }
   ],
   "source": [
    "plt.figure(figsize=(8, 6), facecolor='white')\n",
    "g = sns.lineplot(\n",
    "    data=pd.DataFrame({\n",
    "        'episode': range(args['eval_interval'], args['eval_interval'] * (len(eval_reward_list) + 1), args['eval_interval']),\n",
    "        'reward': eval_reward_list\n",
    "    }),\n",
    "    x='episode', y='reward', lw=2\n",
    ")\n",
    "plt.title('{}エピソードごとの学習済みモデルにおける\\n評価報酬の平均値の推移'.format(args['eval_interval']), fontsize=18, weight='bold')\n",
    "plt.xlabel('エピソード')\n",
    "plt.ylabel('獲得報酬の平均値')\n",
    "for tick in plt.yticks()[0]:\n",
    "    plt.axhline(tick, color='grey', alpha=0.1)\n",
    "plt.tight_layout()\n",
    "plt.savefig(result_dir_path.joinpath('{}_eval_reward_{}.png'.format(gym_game_name, args['eval_interval'])), dpi=500)"
   ]
  },
  {
   "cell_type": "markdown",
   "metadata": {},
   "source": [
    "## 学習済みモデルの検証"
   ]
  },
  {
   "cell_type": "code",
   "execution_count": 107,
   "metadata": {},
   "outputs": [
    {
     "name": "stdout",
     "output_type": "stream",
     "text": [
      "Reward: -241.39\n"
     ]
    }
   ],
   "source": [
    "state = env.reset()\n",
    "episode_reward = 0\n",
    "done = False\n",
    "while not done:\n",
    "    with torch.no_grad():\n",
    "        action = agent.select_action(state, evaluate=True)\n",
    "    next_state, reward, done, _ = env.step(action)\n",
    "    env.render()\n",
    "    episode_reward += reward\n",
    "    state = next_state\n",
    "print('Reward: {:.2f}'.format(episode_reward))"
   ]
  },
  {
   "cell_type": "code",
   "execution_count": 108,
   "metadata": {},
   "outputs": [
    {
     "name": "stderr",
     "output_type": "stream",
     "text": [
      "100%|██████████| 100/100 [00:03<00:00, 28.51it/s]\n",
      "100%|██████████| 100/100 [00:01<00:00, 56.35it/s]\n"
     ]
    }
   ],
   "source": [
    "result = []\n",
    "for experiment_name in ['agent', 'random']:\n",
    "    for i in tqdm(range(100)):\n",
    "\n",
    "        state = env.reset()\n",
    "        episode_reward = 0\n",
    "        done = False\n",
    "        while not done:\n",
    "            if experiment_name == 'agent':\n",
    "                with torch.no_grad():\n",
    "                    action = agent.select_action(state, evaluate=True)\n",
    "            else:\n",
    "                action = env.action_space.sample()\n",
    "            next_state, reward, done, _ = env.step(action)\n",
    "            episode_reward += reward\n",
    "            state = next_state\n",
    "        result.append([experiment_name, i, episode_reward])\n",
    "result = pd.DataFrame(result, columns=['experiment_name', 'i', 'reward'])"
   ]
  },
  {
   "cell_type": "code",
   "execution_count": 109,
   "metadata": {},
   "outputs": [
    {
     "data": {
      "image/png": "[encoded data removed]",
      "text/plain": [
       "<Figure size 576x432 with 1 Axes>"
      ]
     },
     "metadata": {},
     "output_type": "display_data"
    }
   ],
   "source": [
    "g = sns.catplot(data=result, x='experiment_name', y='reward', kind='boxen')\n",
    "g.fig.suptitle('学習済みモデルとランダムの報酬の比較', fontsize=18, weight='bold', y=1.0)\n",
    "g.fig.set_figwidth(8)\n",
    "g.fig.set_figheight(6)\n",
    "g.fig.set_facecolor('white')\n",
    "g.set_xlabels('')\n",
    "g.set_ylabels('')\n",
    "g.set_xticklabels(fontsize=16)\n",
    "g.tight_layout()\n",
    "g.savefig(result_dir_path.joinpath(f'{gym_game_name}_reward_agent_vs_random.png'), dpi=500)"
   ]
  },
  {
   "cell_type": "markdown",
   "metadata": {},
   "source": [
    "## 学習済みモデルのプレイを動画で保存し、GIF化する"
   ]
  },
  {
   "cell_type": "code",
   "execution_count": 115,
   "metadata": {},
   "outputs": [],
   "source": [
    "from moviepy.editor import *\n",
    "import warnings\n",
    "warnings.filterwarnings('ignore')"
   ]
  },
  {
   "cell_type": "code",
   "execution_count": 111,
   "metadata": {},
   "outputs": [],
   "source": [
    "video_dir_path = Path('video')\n",
    "if not video_dir_path.exists():\n",
    "    video_dir_path.mkdir(parents=True)"
   ]
  },
  {
   "cell_type": "code",
   "execution_count": 116,
   "metadata": {},
   "outputs": [
    {
     "name": "stdout",
     "output_type": "stream",
     "text": [
      "Reward: -120.20\n"
     ]
    }
   ],
   "source": [
    "env = RecordVideo(\n",
    "    gym.make(gym_game_name), video_folder=video_dir_path.__str__(), name_prefix=gym_game_name\n",
    ")\n",
    "\n",
    "state = env.reset()\n",
    "episode_reward = 0\n",
    "done = False\n",
    "while not done:\n",
    "    with torch.no_grad():\n",
    "        action = agent.select_action(state, evaluate=True)\n",
    "    next_state, reward, done, _ = env.step(action)\n",
    "    env.render()\n",
    "    episode_reward += reward\n",
    "    state = next_state\n",
    "print('Reward: {:.2f}'.format(episode_reward))\n",
    "env.close()"
   ]
  },
  {
   "cell_type": "code",
   "execution_count": 123,
   "metadata": {},
   "outputs": [
    {
     "name": "stdout",
     "output_type": "stream",
     "text": [
      "MoviePy - Building file video/Pendulum-v1-actor-critic.gif with imageio.\n"
     ]
    },
    {
     "name": "stderr",
     "output_type": "stream",
     "text": [
      "                                                            \r"
     ]
    }
   ],
   "source": [
    "input_file_path = video_dir_path.joinpath(f'{gym_game_name}-episode-0.mp4')\n",
    "output_file_path = video_dir_path.joinpath(f'{gym_game_name}-actor-critic.gif')\n",
    " \n",
    "clip = VideoFileClip(input_file_path.__str__())\n",
    "clip = clip.resize(width=600)\n",
    "clip.write_gif(output_file_path.__str__(), fps=14)\n",
    "clip.close()"
   ]
  },
  {
   "cell_type": "code",
   "execution_count": null,
   "metadata": {},
   "outputs": [],
   "source": []
  }
 ],
 "metadata": {
  "interpreter": {
   "hash": "aee8b7b246df8f9039afb4144a1f6fd8d2ca17a180786b69acc140d282b71a49"
  },
  "kernelspec": {
   "display_name": "Python 3.9.12 64-bit",
   "language": "python",
   "name": "python3"
  },
  "language_info": {
   "codemirror_mode": {
    "name": "ipython",
    "version": 3
   },
   "file_extension": ".py",
   "mimetype": "text/x-python",
   "name": "python",
   "nbconvert_exporter": "python",
   "pygments_lexer": "ipython3",
   "version": "3.9.12"
  },
  "orig_nbformat": 4
 },
 "nbformat": 4,
 "nbformat_minor": 2
}
