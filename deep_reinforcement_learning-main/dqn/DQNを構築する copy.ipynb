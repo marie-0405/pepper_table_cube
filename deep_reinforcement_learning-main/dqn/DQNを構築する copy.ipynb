{
 "cells": [
  {
   "cell_type": "markdown",
   "id": "758ee179-7a49-403d-8730-eec634b93e2f",
   "metadata": {},
   "source": [
    "# DQNを構築する"
   ]
  },
  {
   "cell_type": "code",
   "execution_count": 58,
   "id": "ad9e915b-ded0-495b-8a9b-6b86d4ed8925",
   "metadata": {},
   "outputs": [],
   "source": [
    "from pathlib import Path\n",
    "import gym\n",
    "import math\n",
    "import random\n",
    "import math\n",
    "import copy\n",
    "import numpy as np\n",
    "import pandas as pd\n",
    "import time\n",
    "import matplotlib\n",
    "import matplotlib.pyplot as plt\n",
    "import seaborn as sns\n",
    "from collections import namedtuple, deque\n",
    "from itertools import count\n",
    "from PIL import Image\n",
    "\n",
    "import torch\n",
    "import torch.nn as nn\n",
    "import torch.optim as optim\n",
    "import torch.nn.functional as F\n",
    "import torchvision.transforms as T\n",
    "\n",
    "import settings"
   ]
  },
  {
   "cell_type": "code",
   "execution_count": 2,
   "id": "b65aa6e0-daa6-4a02-bc7e-fb46d452ed70",
   "metadata": {},
   "outputs": [],
   "source": [
    "%load_ext autoreload\n",
    "%autoreload 2"
   ]
  },
  {
   "cell_type": "markdown",
   "id": "bab6abc1",
   "metadata": {},
   "source": [
    "## パラメータの設定"
   ]
  },
  {
   "cell_type": "code",
   "execution_count": 60,
   "id": "f1c5d65f",
   "metadata": {},
   "outputs": [],
   "source": [
    "gym_game_name = 'Pendulum-v1'"
   ]
  },
  {
   "cell_type": "code",
   "execution_count": 59,
   "id": "eb5d2c60",
   "metadata": {},
   "outputs": [],
   "source": [
    "result_dir_path = Path('result')\n",
    "if not result_dir_path.exists():\n",
    "    result_dir_path.mkdir(parents=True)"
   ]
  },
  {
   "cell_type": "markdown",
   "id": "1c4f3b80-bdbe-4969-a169-05d49a1dc643",
   "metadata": {},
   "source": [
    "## ゲーム環境を構築"
   ]
  },
  {
   "cell_type": "code",
   "execution_count": 3,
   "id": "e6e52ad8",
   "metadata": {},
   "outputs": [],
   "source": [
    "action_list = [-1, 1]"
   ]
  },
  {
   "cell_type": "code",
   "execution_count": 4,
   "id": "e3ee93fa",
   "metadata": {},
   "outputs": [],
   "source": [
    "env = gym.make(gym_game_name)\n",
    "dim_state = env.env.observation_space.shape[0]"
   ]
  },
  {
   "cell_type": "markdown",
   "id": "15e59109-20a4-48d2-b4a0-6ecd2b9e78db",
   "metadata": {},
   "source": [
    "## DQNのモデルを構築する"
   ]
  },
  {
   "cell_type": "code",
   "execution_count": 134,
   "id": "a4329762-f246-4289-8a15-1c42f476734e",
   "metadata": {},
   "outputs": [],
   "source": [
    "class DQN(nn.Module):\n",
    "    \n",
    "    def __init__(self, input_dim, output_dim):\n",
    "\n",
    "        super(DQN, self).__init__()\n",
    "        self.layer1 = nn.Linear(input_dim, 30)\n",
    "        self.layer2 = nn.Linear(30, 30)\n",
    "        self.layer3 = nn.Linear(30, 30)\n",
    "        self.layer_output = nn.Linear(30, output_dim)\n",
    "        \n",
    "    def forward(self, x):\n",
    "        x = F.relu(self.layer1(x))\n",
    "        x = F.relu(self.layer2(x))\n",
    "        x = F.relu(self.layer3(x))\n",
    "        return self.layer_output(x)"
   ]
  },
  {
   "cell_type": "code",
   "execution_count": 135,
   "id": "e4647959-e6df-4f2a-8835-30fe0f68d029",
   "metadata": {},
   "outputs": [],
   "source": [
    "def select_action(policy_net, state, action_list, epsilon, is_train=True):\n",
    "\n",
    "    state = torch.tensor(state, dtype=torch.float32).unsqueeze(0)\n",
    "    \n",
    "    if not is_train:\n",
    "        with torch.no_grad():\n",
    "            return action_list[policy_net(state).max(1)[1].detach().item()]\n",
    "\n",
    "    if random.random() > epsilon:\n",
    "        with torch.no_grad():\n",
    "            return action_list[policy_net(state).max(1)[1].detach().item()]\n",
    "    else:\n",
    "        return action_list[random.randrange(len(action_list))]"
   ]
  },
  {
   "cell_type": "code",
   "execution_count": 136,
   "id": "7d679e9d",
   "metadata": {},
   "outputs": [],
   "source": [
    "def soft_update(target, source, tau):\n",
    "    for target_param, param in zip(target.parameters(), source.parameters()):\n",
    "        target_param.data.copy_(target_param.data * (1.0 - tau) + param.data * tau)\n",
    "\n",
    "\n",
    "def hard_update(target, source):\n",
    "    for target_param, param in zip(target.parameters(), source.parameters()):\n",
    "        target_param.data.copy_(param.data)"
   ]
  },
  {
   "cell_type": "code",
   "execution_count": 137,
   "id": "c8cfcea0",
   "metadata": {},
   "outputs": [
    {
     "data": {
      "text/plain": [
       "DQN(\n",
       "  (layer1): Linear(in_features=3, out_features=30, bias=True)\n",
       "  (layer2): Linear(in_features=30, out_features=30, bias=True)\n",
       "  (layer3): Linear(in_features=30, out_features=30, bias=True)\n",
       "  (layer_output): Linear(in_features=30, out_features=2, bias=True)\n",
       ")"
      ]
     },
     "execution_count": 137,
     "metadata": {},
     "output_type": "execute_result"
    }
   ],
   "source": [
    "main_net = DQN(input_dim=dim_state, output_dim=len(action_list))\n",
    "target_net = DQN(input_dim=dim_state, output_dim=len(action_list))\n",
    "target_net.eval()"
   ]
  },
  {
   "cell_type": "markdown",
   "id": "b7cba668-f27a-41c4-bc09-550ad5ee5adf",
   "metadata": {},
   "source": [
    "## DQNの学習"
   ]
  },
  {
   "cell_type": "code",
   "execution_count": 138,
   "id": "29720db5",
   "metadata": {},
   "outputs": [],
   "source": [
    "def learn_model(main_net, target_net, batch, action_list, optimizer, is_train=True):\n",
    "\n",
    "    (states, actions, rewards, next_states, dones) = zip(*batch)\n",
    "\n",
    "    states = np.array(states)\n",
    "    states = torch.tensor(states, dtype=torch.float32)\n",
    "    dones = np.array(dones).astype(int)\n",
    "    dones = torch.tensor(dones, dtype=torch.float32)\n",
    "    next_states = np.array(next_states)\n",
    "    next_states = torch.tensor(next_states, dtype=torch.float32)\n",
    "    rewards = np.array(rewards)\n",
    "    rewards = torch.tensor(rewards, dtype=torch.float32)\n",
    "\n",
    "    action_indexes = torch.tensor([action_list.index(a) for a in actions])\n",
    "\n",
    "    q_values = main_net(states).gather(1, action_indexes.unsqueeze(1)).squeeze(1)\n",
    "\n",
    "    with torch.no_grad():\n",
    "        q_values_next_target = target_net(next_states)\n",
    "        q_values_next = main_net(next_states)\n",
    "        action_indexes = q_values_next.max(axis=1)[1]\n",
    "        future_returns = q_values_next_target.gather(1, action_indexes.unsqueeze(1)).squeeze(1)\n",
    "        # future_returns = q_values_next_target.max(1)[0]\n",
    "        q_values_next_target = rewards + (1 - dones) * gamma * future_returns\n",
    "\n",
    "    loss = F.mse_loss(q_values, q_values_next_target)\n",
    "\n",
    "    if is_train:\n",
    "        optimizer.zero_grad()\n",
    "        loss.backward()\n",
    "        optimizer.step()\n",
    "\n",
    "    return loss.item()"
   ]
  },
  {
   "cell_type": "code",
   "execution_count": 139,
   "id": "fb09aca0",
   "metadata": {},
   "outputs": [],
   "source": [
    "max_episode =  300\n",
    "max_step = 200\n",
    "n_warmup_steps = 10000\n",
    "gamma = 0.99\n",
    "epsilon = 0.1\n",
    "memory_size = 10000\n",
    "batch_size = 32\n",
    "tau = 0.01\n",
    "episode_print_interval = 10"
   ]
  },
  {
   "cell_type": "code",
   "execution_count": 140,
   "id": "22a44716",
   "metadata": {},
   "outputs": [],
   "source": [
    "optimizer = optim.Adam(main_net.parameters())"
   ]
  },
  {
   "cell_type": "code",
   "execution_count": 141,
   "id": "5e41d090",
   "metadata": {},
   "outputs": [],
   "source": [
    "def normalize_reward(reward):\n",
    "    if reward < -1:\n",
    "        reward = -1\n",
    "    else:\n",
    "        reward = 1\n",
    "    return reward"
   ]
  },
  {
   "cell_type": "code",
   "execution_count": 142,
   "id": "938e1368",
   "metadata": {},
   "outputs": [
    {
     "name": "stdout",
     "output_type": "stream",
     "text": [
      "warming up 10,000 steps... done.\n"
     ]
    }
   ],
   "source": [
    "memory = []\n",
    "total_step = 0\n",
    "step = 0\n",
    "state = env.reset()\n",
    "while True:\n",
    "\n",
    "    step += 1\n",
    "    total_step += 1\n",
    "\n",
    "    action = random.choice(action_list)\n",
    "\n",
    "    next_state, reward, done, info = env.step([action])\n",
    "    c_reward = normalize_reward(reward=reward)\n",
    "\n",
    "    memory.append((state, action, c_reward, next_state, done))\n",
    "    state = next_state\n",
    "\n",
    "    if step > max_step:\n",
    "        state = env.reset()\n",
    "        step = 0\n",
    "        \n",
    "    if total_step > n_warmup_steps:\n",
    "        break\n",
    "\n",
    "memory = memory[-memory_size:]\n",
    "print('warming up {:,} steps... done.'.format(n_warmup_steps))"
   ]
  },
  {
   "cell_type": "code",
   "execution_count": 143,
   "id": "7069b919",
   "metadata": {},
   "outputs": [
    {
     "name": "stdout",
     "output_type": "stream",
     "text": [
      "[10/300] Reward: -745, Last10 Reward: -1094\n",
      "[20/300] Reward: -124, Last10 Reward: -558\n",
      "[30/300] Reward: -588, Last10 Reward: -361\n",
      "[40/300] Reward: -126, Last10 Reward: -324\n",
      "[50/300] Reward: -471, Last10 Reward: -375\n",
      "[60/300] Reward: -251, Last10 Reward: -255\n",
      "[70/300] Reward: -498, Last10 Reward: -275\n",
      "[80/300] Reward: -235, Last10 Reward: -194\n",
      "[90/300] Reward: -127, Last10 Reward: -235\n",
      "[100/300] Reward: -243, Last10 Reward: -218\n",
      "[110/300] Reward: -606, Last10 Reward: -334\n",
      "[120/300] Reward: -247, Last10 Reward: -257\n",
      "[130/300] Reward: -245, Last10 Reward: -338\n",
      "[140/300] Reward: -620, Last10 Reward: -321\n",
      "[150/300] Reward: -122, Last10 Reward: -277\n",
      "[160/300] Reward: -123, Last10 Reward: -281\n",
      "[170/300] Reward: -493, Last10 Reward: -347\n",
      "[180/300] Reward: -2, Last10 Reward: -302\n",
      "[190/300] Reward: -374, Last10 Reward: -381\n",
      "[200/300] Reward: -350, Last10 Reward: -317\n",
      "[210/300] Reward: -119, Last10 Reward: -285\n",
      "[220/300] Reward: -581, Last10 Reward: -282\n",
      "[230/300] Reward: -1, Last10 Reward: -302\n",
      "[240/300] Reward: -124, Last10 Reward: -257\n",
      "[250/300] Reward: -245, Last10 Reward: -374\n",
      "[260/300] Reward: -475, Last10 Reward: -379\n",
      "[270/300] Reward: -120, Last10 Reward: -356\n",
      "[280/300] Reward: -349, Last10 Reward: -260\n",
      "[290/300] Reward: -364, Last10 Reward: -272\n",
      "[300/300] Reward: -608, Last10 Reward: -257\n"
     ]
    }
   ],
   "source": [
    "goal_episode_reward = 0\n",
    "episode_reward_list = []\n",
    "loss_list = []\n",
    "\n",
    "num_episode = 1\n",
    "episode_loop = True\n",
    "while episode_loop:\n",
    "\n",
    "    state = env.reset()\n",
    "\n",
    "    episode_reward = 0\n",
    "    done = False\n",
    "    while not done:\n",
    "        \n",
    "        action = select_action(\n",
    "            policy_net=main_net, state=state, action_list=action_list, epsilon=epsilon\n",
    "        )\n",
    "        next_state, reward, done, info = env.step([action])\n",
    "        c_reward = normalize_reward(reward=reward)\n",
    "        \n",
    "        memory.append((state, action, c_reward, next_state, done))\n",
    "        episode_reward += reward\n",
    "        state = next_state\n",
    "        batch = random.sample(memory, batch_size)\n",
    "        \n",
    "        loss = learn_model(\n",
    "            main_net=main_net, target_net=target_net, batch=batch, action_list=action_list,\n",
    "            optimizer=optimizer, is_train=True\n",
    "        )\n",
    "\n",
    "        loss_list.append(loss)\n",
    "\n",
    "        soft_update(target_net, main_net, tau=tau)\n",
    "\n",
    "        memory = memory[-memory_size:]\n",
    "\n",
    "    episode_reward_list.append(episode_reward)\n",
    "\n",
    "    if num_episode % episode_print_interval == 0:\n",
    "        print('[{}/{}] Reward: {:.0f}, Last{} Reward: {:.0f}'.format(\n",
    "            num_episode, max_episode, episode_reward,\n",
    "            episode_print_interval, np.mean(episode_reward_list[-episode_print_interval:]), \n",
    "        ))\n",
    "\n",
    "    if len(episode_reward_list) > episode_print_interval:\n",
    "        if np.mean(episode_reward_list[-episode_print_interval:]) == max_step:\n",
    "            break\n",
    "\n",
    "    if num_episode >= max_episode or episode_reward == goal_episode_reward:\n",
    "        episode_loop = False\n",
    "    \n",
    "    num_episode += 1\n",
    "\n",
    "env.close()"
   ]
  },
  {
   "cell_type": "markdown",
   "id": "1668024c-05d9-4578-b16c-12d90b81c272",
   "metadata": {},
   "source": [
    "## 学習結果を可視化する"
   ]
  },
  {
   "cell_type": "code",
   "execution_count": 146,
   "id": "8a268740",
   "metadata": {},
   "outputs": [
    {
     "data": {
      "image/png": "[encoded data removed]",
      "text/plain": [
       "<Figure size 720x432 with 1 Axes>"
      ]
     },
     "metadata": {},
     "output_type": "display_data"
    },
    {
     "ename": "",
     "evalue": "",
     "output_type": "error",
     "traceback": [
      "\u001b[1;31mThe Kernel crashed while executing code in the the current cell or a previous cell. Please review the code in the cell(s) to identify a possible cause of the failure. Click <a href='https://aka.ms/vscodeJupyterKernelCrash'>here</a> for more info. View Jupyter <a href='command:jupyter.viewOutput'>log</a> for further details."
     ]
    }
   ],
   "source": [
    "plot_data = pd.DataFrame({\n",
    "    'episode_num': np.arange(1, len(episode_reward_list) + 1),\n",
    "    'episode_reward': episode_reward_list\n",
    "})\n",
    "\n",
    "plt.figure(figsize=(10, 6), facecolor='white')\n",
    "sns.lineplot(\n",
    "    data=plot_data,\n",
    "    x='episode_num',\n",
    "    y='episode_reward'\n",
    ")\n",
    "plt.tight_layout()\n",
    "plt.savefig(result_dir_path.joinpath(f'dqn_reward_trend_{gym_game_name}.png'), dpi=300)"
   ]
  },
  {
   "cell_type": "markdown",
   "id": "40317c26",
   "metadata": {},
   "source": [
    "## 学習したモデルを使ってゲームをプレイ"
   ]
  },
  {
   "cell_type": "code",
   "execution_count": null,
   "id": "aad216d6",
   "metadata": {},
   "outputs": [
    {
     "name": "stdout",
     "output_type": "stream",
     "text": [
      "Game End Reward: -359\n"
     ]
    }
   ],
   "source": [
    "env = gym.make(gym_game_name)\n",
    "state = env.reset()\n",
    "episode_reward = 0\n",
    "done = False\n",
    "while not done:\n",
    "    \n",
    "    action = select_action(\n",
    "        policy_net=main_net, state=state, action_list=action_list,\n",
    "        epsilon=epsilon, is_train=False\n",
    "    )\n",
    "    state, reward, done, _ = env.step([action])\n",
    "\n",
    "    env.render()\n",
    "    episode_reward += reward\n",
    "\n",
    "print('Game End Reward: {:.0f}'.format(episode_reward))\n",
    "env.close()"
   ]
  },
  {
   "cell_type": "code",
   "execution_count": null,
   "id": "cd6498f3-6c72-465b-b481-8be513cad904",
   "metadata": {},
   "outputs": [],
   "source": []
  },
  {
   "cell_type": "code",
   "execution_count": null,
   "id": "cb52e11d-9545-425f-91c1-3c8b4854a466",
   "metadata": {},
   "outputs": [],
   "source": []
  }
 ],
 "metadata": {
  "interpreter": {
   "hash": "aee8b7b246df8f9039afb4144a1f6fd8d2ca17a180786b69acc140d282b71a49"
  },
  "kernelspec": {
   "display_name": "Python 3.9.12 64-bit",
   "language": "python",
   "name": "python3"
  },
  "language_info": {
   "codemirror_mode": {
    "name": "ipython",
    "version": 3
   },
   "file_extension": ".py",
   "mimetype": "text/x-python",
   "name": "python",
   "nbconvert_exporter": "python",
   "pygments_lexer": "ipython3",
   "version": "3.9.12"
  }
 },
 "nbformat": 4,
 "nbformat_minor": 5
}
