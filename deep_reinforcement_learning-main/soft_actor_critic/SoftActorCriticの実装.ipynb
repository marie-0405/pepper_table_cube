{
 "cells": [
  {
   "cell_type": "markdown",
   "metadata": {},
   "source": [
    "# Soft Actor Criticを構築する"
   ]
  },
  {
   "cell_type": "code",
   "execution_count": 24,
   "metadata": {},
   "outputs": [],
   "source": [
    "from pathlib import Path\n",
    "import numpy as np\n",
    "import pandas as pd\n",
    "import matplotlib.pyplot as plt\n",
    "from tqdm import tqdm\n",
    "import seaborn as sns\n",
    "import torch\n",
    "import gym\n",
    "from gym.wrappers import RecordVideo\n",
    "from agents import SoftActorCriticModel\n",
    "from memories import ReplayMemory"
   ]
  },
  {
   "cell_type": "code",
   "execution_count": 2,
   "metadata": {},
   "outputs": [],
   "source": [
    "%load_ext autoreload\n",
    "%autoreload 2"
   ]
  },
  {
   "cell_type": "markdown",
   "metadata": {},
   "source": [
    "## パラメータの設定"
   ]
  },
  {
   "cell_type": "code",
   "execution_count": 3,
   "metadata": {},
   "outputs": [],
   "source": [
    "gym_game_name = 'Pendulum-v1'"
   ]
  },
  {
   "cell_type": "code",
   "execution_count": 8,
   "metadata": {},
   "outputs": [],
   "source": [
    "device = torch.device(\"cuda\" if torch.cuda.is_available() else \"cpu\")"
   ]
  },
  {
   "cell_type": "code",
   "execution_count": 7,
   "metadata": {},
   "outputs": [],
   "source": [
    "model_dir_path = Path('model')\n",
    "if not model_dir_path.exists():\n",
    "    model_dir_path.mkdir(parents=True)\n",
    "    \n",
    "result_dir_path = Path('result')\n",
    "if not result_dir_path.exists():\n",
    "    result_dir_path.mkdir(parents=True)"
   ]
  },
  {
   "cell_type": "code",
   "execution_count": 5,
   "metadata": {},
   "outputs": [],
   "source": [
    "seed = 123456\n",
    "torch.manual_seed(seed)\n",
    "np.random.seed(seed)"
   ]
  },
  {
   "cell_type": "markdown",
   "metadata": {},
   "source": [
    "## ゲーム環境の構築"
   ]
  },
  {
   "cell_type": "code",
   "execution_count": 13,
   "metadata": {},
   "outputs": [
    {
     "name": "stderr",
     "output_type": "stream",
     "text": [
      "/Library/Frameworks/Python.framework/Versions/3.9/lib/python3.9/site-packages/gym/utils/passive_env_checker.py:97: UserWarning: \u001b[33mWARN: We recommend you to use a symmetric and normalized Box action space (range=[-1, 1]) https://stable-baselines3.readthedocs.io/en/master/guide/rl_tips.html\u001b[0m\n",
      "  logger.warn(\n"
     ]
    },
    {
     "data": {
      "text/plain": [
       "[123456]"
      ]
     },
     "execution_count": 13,
     "metadata": {},
     "output_type": "execute_result"
    }
   ],
   "source": [
    "env = gym.make(gym_game_name)\n",
    "env.action_space.seed(seed)"
   ]
  },
  {
   "cell_type": "markdown",
   "metadata": {},
   "source": [
    "## Soft Actor Criticの構築"
   ]
  },
  {
   "cell_type": "code",
   "execution_count": 18,
   "metadata": {},
   "outputs": [],
   "source": [
    "args = {\n",
    "    'gamma': 0.99,\n",
    "    'tau': 0.005,\n",
    "    'alpha': 0.2,\n",
    "    'seed': 123456,\n",
    "    'batch_size': 256,\n",
    "    'hidden_size': 256,\n",
    "    'start_steps': 1000,\n",
    "    'updates_per_step': 1,\n",
    "    'target_update_interval': 1,\n",
    "    'memory_size': 100000,\n",
    "    'epochs': 100,\n",
    "    'eval_interval': 10\n",
    "}"
   ]
  },
  {
   "cell_type": "code",
   "execution_count": 22,
   "metadata": {},
   "outputs": [
    {
     "name": "stdout",
     "output_type": "stream",
     "text": [
      "Episode: 10, Eval Avg. Reward: -1146\n",
      "Episode: 20, Eval Avg. Reward: -419\n",
      "Episode: 30, Eval Avg. Reward: -202\n",
      "Episode: 40, Eval Avg. Reward: -233\n",
      "Episode: 50, Eval Avg. Reward: -130\n",
      "Episode: 60, Eval Avg. Reward: -163\n",
      "Episode: 70, Eval Avg. Reward: -110\n",
      "Episode: 80, Eval Avg. Reward: -109\n",
      "Episode: 90, Eval Avg. Reward: -166\n",
      "Episode: 100, Eval Avg. Reward: -146\n",
      "Game Done !! Max Reward: -108.58\n"
     ]
    }
   ],
   "source": [
    "agent = SoftActorCriticModel(\n",
    "    state_dim=env.observation_space.shape[0], action_dim=env.action_space.shape[0],\n",
    "    action_scale=env.action_space.high[0], args=args, device=device\n",
    ")\n",
    "memory = ReplayMemory(args['memory_size'])\n",
    "\n",
    "episode_reward_list = []\n",
    "eval_reward_list = []\n",
    "\n",
    "n_steps = 0\n",
    "n_update = 0\n",
    "for i_episode in range(1, args['epochs'] + 1):\n",
    "\n",
    "    episode_reward = 0\n",
    "    done = False\n",
    "    state = env.reset()\n",
    "\n",
    "    while not done:\n",
    "        \n",
    "        if args['start_steps'] > n_steps:\n",
    "            action = env.action_space.sample()\n",
    "        else:\n",
    "            action = agent.select_action(state)\n",
    "\n",
    "        if len(memory) > args['batch_size']:\n",
    "            agent.update_parameters(memory, args['batch_size'], n_update)\n",
    "            n_update += 1\n",
    "\n",
    "        next_state, reward, done, _ = env.step(action)\n",
    "        n_steps += 1\n",
    "        episode_reward += reward\n",
    "\n",
    "        memory.push(state=state, action=action, reward=reward, next_state=next_state, mask=float(not done))\n",
    "\n",
    "        state = next_state\n",
    "\n",
    "    episode_reward_list.append(episode_reward)\n",
    "\n",
    "    if i_episode % args['eval_interval'] == 0:\n",
    "        avg_reward = 0.\n",
    "        for _  in range(args['eval_interval']):\n",
    "            state = env.reset()\n",
    "            episode_reward = 0\n",
    "            done = False\n",
    "            while not done:\n",
    "                with torch.no_grad():\n",
    "                    action = agent.select_action(state, evaluate=True)\n",
    "                next_state, reward, done, _ = env.step(action)\n",
    "                episode_reward += reward\n",
    "                state = next_state\n",
    "            avg_reward += episode_reward\n",
    "        avg_reward /= args['eval_interval']\n",
    "        eval_reward_list.append(avg_reward)\n",
    "\n",
    "        print(\"Episode: {}, Eval Avg. Reward: {:.0f}\".format(i_episode, avg_reward))\n",
    "\n",
    "print('Game Done !! Max Reward: {:.2f}'.format(np.max(eval_reward_list)))\n",
    "\n",
    "torch.save(agent.actor_net.to('cpu').state_dict(), model_dir_path.joinpath(f'{gym_game_name}_sac_actor.pth'))"
   ]
  },
  {
   "cell_type": "markdown",
   "metadata": {},
   "source": [
    "## 学習時の評価報酬の可視化"
   ]
  },
  {
   "cell_type": "code",
   "execution_count": 25,
   "metadata": {},
   "outputs": [
    {
     "data": {
      "image/png": "[encoded data removed]",
      "text/plain": [
       "<Figure size 576x432 with 1 Axes>"
      ]
     },
     "metadata": {},
     "output_type": "display_data"
    }
   ],
   "source": [
    "plt.figure(figsize=(8, 6), facecolor='white')\n",
    "g = sns.lineplot(\n",
    "    data=pd.DataFrame({\n",
    "        'episode': range(args['eval_interval'], args['eval_interval'] * (len(eval_reward_list) + 1), args['eval_interval']),\n",
    "        'reward': eval_reward_list\n",
    "    }),\n",
    "    x='episode', y='reward', lw=2\n",
    ")\n",
    "plt.title('{}エピソードごとの学習済みモデルにおける\\n評価報酬の平均値の推移'.format(args['eval_interval']), fontsize=18, weight='bold')\n",
    "plt.xlabel('エピソード')\n",
    "plt.ylabel('獲得報酬の平均値')\n",
    "for tick in plt.yticks()[0]:\n",
    "    plt.axhline(tick, color='grey', alpha=0.1)\n",
    "plt.tight_layout()\n",
    "plt.savefig(result_dir_path.joinpath('{}_sac_eval_reward_{}.png'.format(gym_game_name, args['eval_interval'])), dpi=500)"
   ]
  },
  {
   "cell_type": "markdown",
   "metadata": {},
   "source": [
    "## 学習済みモデルの検証"
   ]
  },
  {
   "cell_type": "code",
   "execution_count": 26,
   "metadata": {},
   "outputs": [
    {
     "name": "stderr",
     "output_type": "stream",
     "text": [
      "2022-06-23 14:46:03.424 Python[18449:32681283] ApplePersistenceIgnoreState: Existing state will not be touched. New state will be written to /var/folders/0z/jfdrd7z91lvfm8jskr77zkd40000gn/T/org.python.python.savedState\n"
     ]
    },
    {
     "name": "stdout",
     "output_type": "stream",
     "text": [
      "Reward: -123.79\n"
     ]
    }
   ],
   "source": [
    "state = env.reset()\n",
    "episode_reward = 0\n",
    "done = False\n",
    "while not done:\n",
    "    with torch.no_grad():\n",
    "        action = agent.select_action(state, evaluate=True)\n",
    "    next_state, reward, done, _ = env.step(action)\n",
    "    env.render()\n",
    "    episode_reward += reward\n",
    "    state = next_state\n",
    "print('Reward: {:.2f}'.format(episode_reward))"
   ]
  },
  {
   "cell_type": "code",
   "execution_count": 27,
   "metadata": {},
   "outputs": [
    {
     "name": "stderr",
     "output_type": "stream",
     "text": [
      "100%|██████████| 100/100 [00:05<00:00, 19.76it/s]\n",
      "100%|██████████| 100/100 [00:01<00:00, 55.99it/s]\n"
     ]
    }
   ],
   "source": [
    "result = []\n",
    "for experiment_name in ['agent', 'random']:\n",
    "    for i in tqdm(range(100)):\n",
    "\n",
    "        state = env.reset()\n",
    "        episode_reward = 0\n",
    "        done = False\n",
    "        while not done:\n",
    "            if experiment_name == 'agent':\n",
    "                with torch.no_grad():\n",
    "                    action = agent.select_action(state, evaluate=True)\n",
    "            else:\n",
    "                action = env.action_space.sample()\n",
    "            next_state, reward, done, _ = env.step(action)\n",
    "            episode_reward += reward\n",
    "            state = next_state\n",
    "        result.append([experiment_name, i, episode_reward])\n",
    "result = pd.DataFrame(result, columns=['experiment_name', 'i', 'reward'])"
   ]
  },
  {
   "cell_type": "code",
   "execution_count": 28,
   "metadata": {},
   "outputs": [
    {
     "data": {
      "image/png": "[encoded data removed]",
      "text/plain": [
       "<Figure size 576x432 with 1 Axes>"
      ]
     },
     "metadata": {},
     "output_type": "display_data"
    }
   ],
   "source": [
    "g = sns.catplot(data=result, x='experiment_name', y='reward', kind='boxen')\n",
    "g.fig.suptitle('学習済みモデルとランダムの報酬の比較', fontsize=18, weight='bold', y=1.0)\n",
    "g.fig.set_figwidth(8)\n",
    "g.fig.set_figheight(6)\n",
    "g.fig.set_facecolor('white')\n",
    "g.set_xlabels('')\n",
    "g.set_ylabels('')\n",
    "g.set_xticklabels(fontsize=16)\n",
    "g.tight_layout()\n",
    "g.savefig(result_dir_path.joinpath(f'{gym_game_name}_sac_reward_agent_vs_random.png'), dpi=500)"
   ]
  },
  {
   "cell_type": "markdown",
   "metadata": {},
   "source": [
    "## 学習済みモデルのプレイを動画で保存し、GIF化する"
   ]
  },
  {
   "cell_type": "code",
   "execution_count": 29,
   "metadata": {},
   "outputs": [],
   "source": [
    "from moviepy.editor import *\n",
    "import warnings\n",
    "warnings.filterwarnings('ignore')"
   ]
  },
  {
   "cell_type": "code",
   "execution_count": 30,
   "metadata": {},
   "outputs": [],
   "source": [
    "video_dir_path = Path('video')\n",
    "if not video_dir_path.exists():\n",
    "    video_dir_path.mkdir(parents=True)"
   ]
  },
  {
   "cell_type": "code",
   "execution_count": 31,
   "metadata": {},
   "outputs": [
    {
     "name": "stdout",
     "output_type": "stream",
     "text": [
      "Reward: -123.18\n"
     ]
    }
   ],
   "source": [
    "env = RecordVideo(\n",
    "    gym.make(gym_game_name), video_folder=video_dir_path.__str__(), name_prefix=gym_game_name\n",
    ")\n",
    "\n",
    "state = env.reset()\n",
    "episode_reward = 0\n",
    "done = False\n",
    "while not done:\n",
    "    with torch.no_grad():\n",
    "        action = agent.select_action(state, evaluate=True)\n",
    "    next_state, reward, done, _ = env.step(action)\n",
    "    env.render()\n",
    "    episode_reward += reward\n",
    "    state = next_state\n",
    "print('Reward: {:.2f}'.format(episode_reward))\n",
    "env.close()"
   ]
  },
  {
   "cell_type": "code",
   "execution_count": 32,
   "metadata": {},
   "outputs": [
    {
     "name": "stdout",
     "output_type": "stream",
     "text": [
      "MoviePy - Building file video/Pendulum-v1-actor-critic.gif with imageio.\n"
     ]
    },
    {
     "name": "stderr",
     "output_type": "stream",
     "text": [
      "                                                            \r"
     ]
    }
   ],
   "source": [
    "input_file_path = video_dir_path.joinpath(f'{gym_game_name}-episode-0.mp4')\n",
    "output_file_path = video_dir_path.joinpath(f'{gym_game_name}-actor-critic.gif')\n",
    " \n",
    "clip = VideoFileClip(input_file_path.__str__())\n",
    "clip = clip.resize(width=600)\n",
    "clip.write_gif(output_file_path.__str__(), fps=14)\n",
    "clip.close()"
   ]
  },
  {
   "cell_type": "code",
   "execution_count": null,
   "metadata": {},
   "outputs": [],
   "source": []
  }
 ],
 "metadata": {
  "interpreter": {
   "hash": "aee8b7b246df8f9039afb4144a1f6fd8d2ca17a180786b69acc140d282b71a49"
  },
  "kernelspec": {
   "display_name": "Python 3.9.4 64-bit",
   "language": "python",
   "name": "python3"
  },
  "language_info": {
   "codemirror_mode": {
    "name": "ipython",
    "version": 3
   },
   "file_extension": ".py",
   "mimetype": "text/x-python",
   "name": "python",
   "nbconvert_exporter": "python",
   "pygments_lexer": "ipython3",
   "version": "3.9.12"
  },
  "orig_nbformat": 4
 },
 "nbformat": 4,
 "nbformat_minor": 2
}
